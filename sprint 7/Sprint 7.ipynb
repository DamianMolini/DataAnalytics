{
 "cells": [
  {
   "cell_type": "markdown",
   "metadata": {},
   "source": [
    "# Nivell 1\n",
    "\n",
    "\n",
    "\n",
    "\n",
    "### Exercici 1\n",
    "\n",
    "##### Calculadora de l'índex de massa corporal\n",
    "\n",
    "##### - Escriu una funció que calculi l'IMC ingressat per l'usuari/ària, és a dir, qui ho executi haurà d'ingressar aquestes dades.\n",
    "\n",
    "##### - La funció ha de classificar el resultat en les seves respectives categories"
   ]
  },
  {
   "cell_type": "code",
   "execution_count": 15,
   "metadata": {},
   "outputs": [
    {
     "data": {
      "text/plain": [
       "'IMC: 24.930747922437675; Categoría: Peso normal'"
      ]
     },
     "execution_count": 15,
     "metadata": {},
     "output_type": "execute_result"
    }
   ],
   "source": [
    "def calcular_IMC(peso, altura):\n",
    "\n",
    "    IMC = peso / (altura ** 2)\n",
    "\n",
    "    if IMC < 18.5:\n",
    "        categoria = \"Bajo peso\"\n",
    "    elif IMC >= 18.5 and IMC < 25:\n",
    "        categoria = \"Peso normal\"\n",
    "    elif IMC >= 25 and IMC < 30:\n",
    "        categoria = \"Sobrepeso\"\n",
    "    else:\n",
    "        categoria = \"Obesidad\"\n",
    "\n",
    "    return \"IMC: \" + str(IMC) + \"; Categoría: \" + categoria\n",
    "\n",
    "peso = float(input(\"Ingrese su peso en kg: \"))\n",
    "altura = float(input(\"Ingrese su altura en metros (p. ej.: 1.70) \"))    \n",
    "calcular_IMC(peso, altura)"
   ]
  },
  {
   "cell_type": "markdown",
   "metadata": {},
   "source": [
    "### Exercici 2\n",
    "\n",
    "##### Convertidor de temperatures.\n",
    "\n",
    "##### Existeixen diverses unitats de temperatura utilitzades en diferents contextos i regions. Les més comunes són Celsius (°C), Fahrenheit (°F) i Kelvin (K). També existeixen altres unitats com Rankine (°Ra) i Réaumur (°Re). Selecciona almenys 2 i construeix el convertidor."
   ]
  },
  {
   "cell_type": "code",
   "execution_count": 36,
   "metadata": {},
   "outputs": [
    {
     "name": "stdout",
     "output_type": "stream",
     "text": [
      "26.850000000000023 ºC\n",
      "80.33000000000004 ºF\n",
      "300.0 K\n",
      "540.0 °Ra\n",
      "21.480000000000018 °Re\n"
     ]
    }
   ],
   "source": [
    "def convertir_temperatura(unidadTemperatura,temperatura):\n",
    "   \n",
    "    if unidadTemperatura.lower() == 'celsius':\n",
    "        celsius = temperatura\n",
    "        fahrenheit = (temperatura * 1.8) + 32\n",
    "        kelvin = temperatura + 273.15\n",
    "        rankine = (temperatura * 1.8) + 491.67\n",
    "        réaumur = temperatura * 0.8\n",
    "    elif unidadTemperatura.lower() == 'fahrenheit':\n",
    "        fahrenheit = temperatura\n",
    "        celsius = (temperatura - 32) * 1.8\n",
    "        kelvin = (temperatura - 32) * 1.8 + 273.15\n",
    "        rankine = temperatura + 459.67\n",
    "        réaumur = (temperatura - 32) / 2.25\n",
    "    elif unidadTemperatura.lower() == 'kelvin':\n",
    "        kelvin = temperatura\n",
    "        celsius = temperatura - 273.15\n",
    "        fahrenheit = (temperatura - 273.15) * 1.8 + 32\n",
    "        rankine = ((temperatura - 273.15) * 1.8) + 491.67\n",
    "        réaumur = (temperatura - 273.15) / 1.25\n",
    "    elif unidadTemperatura.lower() == 'rankine':\n",
    "        rankine = temperatura\n",
    "        celsius = (temperatura - 491.67) * 1.8\n",
    "        fahrenheit = temperatura - 459.67\n",
    "        kelvin = temperatura * 1.8\n",
    "        réaumur = (temperatura - 491.67) * 2.25 \n",
    "    elif unidadTemperatura.lower() == 'réaumur':\n",
    "        réaumur = temperatura\n",
    "        celsius = temperatura * 1.25\n",
    "        fahrenheit = (temperatura * 2.25) + 32\n",
    "        kelvin = (temperatura * 1.25) + 273.15\n",
    "        rankine = (temperatura * 2.25) + 491.67\n",
    "    else:\n",
    "        print(\"'\" + str(unidadTemperatura) + \"' no es un término válido. Las unidades de temperatura admitidas son: celsius, fahrenheit, kelvin, rankine o réaumur.\")\n",
    "        return\n",
    "    \n",
    "    print(str(celsius) + \" ºC\")\n",
    "    print(str(fahrenheit) + \" ºF\")\n",
    "    print(str(kelvin) + \" K\")\n",
    "    print(str(rankine) + \" °Ra\")\n",
    "    print(str(réaumur) + \" °Re\")\n",
    "\n",
    "    return\n",
    "\n",
    "unidadTemperatura = str(input(\"Ingrese la unidad de temperatura (celsius, fahrenheit, kelvin, rankine o réaumur): \"))\n",
    "temperatura = float(input(\"Ingrese la temperatura (32, 48.1, etc.): \"))\n",
    " \n",
    "convertir_temperatura(unidadTemperatura, temperatura)  \n",
    "        \n",
    "\n"
   ]
  },
  {
   "cell_type": "markdown",
   "metadata": {},
   "source": [
    "### Exercici 3\n",
    "\n",
    "##### Comptador de paraules d'un text.\n",
    "\n",
    "##### Escriu una funció que donat un text, mostri les vegades que apareix cada paraula."
   ]
  },
  {
   "cell_type": "code",
   "execution_count": 37,
   "metadata": {},
   "outputs": [
    {
     "data": {
      "text/plain": [
       "{'what': 1,\n",
       " 'will': 1,\n",
       " 'you': 1,\n",
       " 'do': 1,\n",
       " 'ever': 2,\n",
       " 'tried': 1,\n",
       " 'failed': 1,\n",
       " 'no': 1,\n",
       " 'matter': 1,\n",
       " 'try': 1,\n",
       " 'again': 2,\n",
       " 'fail': 2,\n",
       " 'better': 1}"
      ]
     },
     "execution_count": 37,
     "metadata": {},
     "output_type": "execute_result"
    }
   ],
   "source": [
    "import re\n",
    "\n",
    "def contar(texto):\n",
    "    \n",
    "    conteo = {}\n",
    "    texto_limpio = re.sub(r'[^\\w\\s]', '', texto)\n",
    "    texto_limpio = texto_limpio.lower()\n",
    "    palabras = texto_limpio.split()\n",
    "    \n",
    "    for palabra in palabras:\n",
    "        if palabra in conteo:\n",
    "            conteo[palabra] += 1\n",
    "        else:\n",
    "            conteo[palabra] = 1\n",
    "            \n",
    "    return conteo\n",
    "\n",
    "oracionPrueba = \"What will you do? Ever tried, ever failed, no matter! Try again, fail again, fail better.\"\n",
    "contar(oracionPrueba)"
   ]
  },
  {
   "cell_type": "markdown",
   "metadata": {},
   "source": [
    "### Exercici 4\n",
    "\n",
    "##### Diccionari invers.\n",
    "\n",
    "##### Resulta que el client té una enquesta molt antiga que s'emmagatzema en un diccionari i els resultats els necessita al revés, és a dir, intercanviats les claus i els valors. Els valors i claus en el diccionari original són únics; si aquest no és el cas, la funció hauria d'imprimir un missatge d'advertiment."
   ]
  },
  {
   "cell_type": "code",
   "execution_count": 38,
   "metadata": {},
   "outputs": [
    {
     "name": "stdout",
     "output_type": "stream",
     "text": [
      "{'madrid': 'españa', 'roma': 'italia', 'parís': 'francia'}\n",
      "No se puede invertir el diccionario porque existen valores repetidos.\n"
     ]
    }
   ],
   "source": [
    "def invertir_diccionario(dic):\n",
    "    igual_cantidad_valores = len(dic) == len(set(dic.values()))\n",
    "    if igual_cantidad_valores == True:\n",
    "        dicInvertido = {v: k for k, v in dic.items()}\n",
    "        return dicInvertido\n",
    "    else:\n",
    "        return 'No se puede invertir el diccionario porque existen valores repetidos.'\n",
    "\n",
    "dicPrueba = {'españa': 'madrid', 'italia': 'roma', 'francia': 'parís'}\n",
    "dicPrueba_duplicados = {'coche': 'rojo', 'camión': 'blanco', 'avión': 'blanco'}\n",
    "\n",
    "dicPrueba = invertir_diccionario(dicPrueba)\n",
    "dicPrueba_duplicados = invertir_diccionario(dicPrueba_duplicados)    \n",
    "\n",
    "print(dicPrueba)\n",
    "print(dicPrueba_duplicados)"
   ]
  },
  {
   "cell_type": "markdown",
   "metadata": {},
   "source": [
    "# Nivell 2\n",
    "\n",
    "\n",
    "### Exercici 1\n",
    "\n",
    "##### Diccionari invers amb duplicats\n",
    "\n",
    "##### Continuant amb l'exercici 4 del nivell 1: al client es va oblidar de comentar un detall i resulta que els valors en el diccionari original poden duplicar-se i més, per la qual cosa les claus intercanviades poden tenir duplicats. En tals casos, els valors del diccionari resultant hauran d'emmagatzemar-se com una llista. Tingues en compte que un valor únic no ha de ser una llista."
   ]
  },
  {
   "cell_type": "code",
   "execution_count": 35,
   "metadata": {},
   "outputs": [
    {
     "name": "stdout",
     "output_type": "stream",
     "text": [
      "{'madrid': 'españa', 'roma': 'italia', 'parís': 'francia'}\n",
      "{'rojo': 'coche', 'blanco': ['camión', 'avión'], 'negro': 'moto'}\n"
     ]
    }
   ],
   "source": [
    "def invertir_diccionario(dic):\n",
    "    dicInvertido = {}\n",
    "    for key, value in dic.items():\n",
    "        if value not in dicInvertido:\n",
    "            dicInvertido[value] = key            \n",
    "        else:\n",
    "            if isinstance(dicInvertido[value], list):\n",
    "                dicInvertido[value].append(key)\n",
    "            else:\n",
    "                dicInvertido[value] = [dicInvertido[value], key]\n",
    "                \n",
    "    return dicInvertido\n",
    "                \n",
    "\n",
    "dicPrueba = {'españa': 'madrid', 'italia': 'roma', 'francia': 'parís'}\n",
    "dicPrueba_duplicados = {'coche': 'rojo', 'camión': 'blanco', 'avión': 'blanco', 'moto': 'negro'}\n",
    "\n",
    "dicPrueba = invertir_diccionario(dicPrueba)\n",
    "dicPrueba_duplicados = invertir_diccionario(dicPrueba_duplicados)    \n",
    "\n",
    "print(dicPrueba)\n",
    "print(dicPrueba_duplicados)"
   ]
  },
  {
   "cell_type": "markdown",
   "metadata": {},
   "source": [
    "### Exercici 2\n",
    "\n",
    "##### Conversió de tipus de dades\n",
    "\n",
    "##### El client rep una llista de dades i necessita generar dues llistes, la primera on estaran tots els elements que es van poder convertir en flotants i l'altra on estan els elements que no es van poder convertir. Exemple de la llista que rep el client: [ '1.3', 'one' , '1e10' , 'seven', '3-1/2', ('2',1,1.4,'not-a-number'), [1,2,'3','3.4']]"
   ]
  },
  {
   "cell_type": "code",
   "execution_count": 40,
   "metadata": {},
   "outputs": [
    {
     "name": "stdout",
     "output_type": "stream",
     "text": [
      "Lista con floats: ['1.3', '1e10']\n",
      "Lista sin floats: ['one', 'seven', '3-1/2', ('2', 1, 1.4, 'not-a-number'), [1, 2, '3', '3.4']]\n"
     ]
    }
   ],
   "source": [
    "def convertir_lista(lista):\n",
    "    lista_con_floats = []\n",
    "    lista_sin_floats = []\n",
    "    for i in lista:\n",
    "        try:\n",
    "            float(i)\n",
    "            lista_con_floats.append(i)\n",
    "        except:\n",
    "            lista_sin_floats.append(i)\n",
    "    \n",
    "    print(\"Lista con floats: \" + str(lista_con_floats))\n",
    "    print(\"Lista sin floats: \" + str(lista_sin_floats))\n",
    "    return\n",
    "\n",
    "listaPrueba = [ '1.3', 'one' , '1e10' , 'seven', '3-1/2', ('2',1,1.4,'not-a-number'), [1,2,'3','3.4']]\n",
    "convertir_lista(listaPrueba)"
   ]
  },
  {
   "cell_type": "markdown",
   "metadata": {},
   "source": [
    "# Nivell 3\n",
    "\n",
    "### Exercici 1\n",
    "\n",
    "##### Comptador i endreçador de paraules d'un text.\n",
    "\n",
    "##### El client va quedar content amb el comptador de paraules, però ara vol llegir arxius TXT i que calculi la freqüència de cada paraula ordenades dins de les entrades habituals del diccionari segons la lletra amb la qual comencen, és a dir, les claus han d'anar de la A a la Z i dins de la A hem d'anar de la A la Z. Per exemple, per a l'arxiu \"tu_me_quieres_blanca.txt\" la sortida esperada seria:\n",
    "\n",
    "![img](Imagen1Data.png)"
   ]
  },
  {
   "cell_type": "code",
   "execution_count": 1,
   "metadata": {},
   "outputs": [
    {
     "name": "stdout",
     "output_type": "stream",
     "text": [
      "{'a': {'a': 3, 'agua': 1, 'al': 2, 'alba': 4, 'alcobas': 1, 'alimenta': 1, 'alma': 1, 'amarga': 1, 'azucena': 1}, 'b': {'baco': 1, 'banquete': 1, 'bebe': 1, 'blanca': 3, 'boca': 1, 'bosques': 1, 'buen': 1}, 'c': {'cabañas': 1, 'carnes': 2, 'casta': 3, 'cerrada': 1, 'con': 4, 'conservas': 1, 'copas': 1, 'corola': 1, 'corriste': 1, 'cuando': 2, 'cubierto': 1, 'cuerpo': 1, 'cuáles': 1}, 'd': {'de': 8, 'dejaste': 1, 'del': 1, 'diga': 1, 'dios': 2, 'duerme': 1}, 'e': {'el': 4, 'ellas': 1, 'en': 4, 'engaño': 1, 'enredada': 1, 'entonces': 1, 'escarcha': 1, 'espumas': 1, 'esqueleto': 1, 'estrago': 1}, 'f': {'festejando': 1, 'filtrado': 1, 'frutos': 1}, 'h': {'habla': 1, 'hacia': 1, 'haya': 1, 'hayas': 1, 'hermana': 1, 'hombre': 1, 'hubiste': 1, 'huye': 1}, 'i': {'intacto': 1}, 'j': {'jardines': 1}, 'l': {'la': 3, 'labios': 1, 'las': 7, 'lo': 2, 'los': 4, 'luna': 1, 'lévate': 1, 'límpiate': 1}, 'm': {'mano': 1, 'manos': 1, 'margarita': 1, 'me': 10, 'mi': 1, 'mieles': 1, 'milagros': 1, 'mojada': 1, 'montaña': 1, 'morados': 1}, 'n': {'negros': 1, 'ni': 2, 'no': 1, 'nácar': 1, 'nívea': 2}, 'p': {'perdone': 2, 'perfume': 1, 'por': 2, 'pretendes': 3, 'preténdeme': 3, 'puesto': 1, 'pájaros': 1, 'pámpanos': 1}, 'q': {'que': 6, 'quedó': 1, 'quieres': 6}, 'r': {'rayo': 1, 'raíz': 1, 'renueva': 1, 'rocas': 1, 'rojo': 1}, 's': {'salitre': 1, 'se': 2, 'sea': 1, 'sean': 1, 'sobre': 2, 'sé': 1}, 't': {'te': 3, 'tejidos': 1, 'tenue': 1, 'tierra': 1, 'toca': 1, 'todas': 2, 'todavía': 1, 'tornadas': 1, 'tú': 8}, 'u': {'un': 1, 'una': 1}, 'v': {'vestido': 1, 'vete': 1, 'vive': 1}, 'y': {'y': 5}}\n"
     ]
    }
   ],
   "source": [
    "import re\n",
    "\n",
    "def contar(texto):\n",
    "    \n",
    "    conteo = {}\n",
    "    texto_limpio = re.sub(r'[^\\w\\s]', '', texto)\n",
    "    texto_limpio = texto_limpio.lower()\n",
    "    palabras = texto_limpio.split()\n",
    "    \n",
    "    for palabra in palabras:\n",
    "        #definimos la primera letra de cada palabra\n",
    "        primera_letra = palabra[0]\n",
    "        #si la primera letra no está en la lista \"conteo\", la agregamos como clave y su valor es un diccionario vacío\n",
    "        if primera_letra not in conteo:\n",
    "            conteo[primera_letra] = {}\n",
    "        #si la palabra ya existe en el diccionario de su primera letra, le sumamos 1, y si no existe, la agregamos con el valor 1\n",
    "        if palabra in conteo[primera_letra]:\n",
    "            conteo[primera_letra][palabra] += 1\n",
    "        else:\n",
    "            conteo[primera_letra][palabra] = 1\n",
    "\n",
    "    #luego ordenamos las claves alfabéticamente\n",
    "    conteo_ordenado = dict(sorted(conteo.items(), key=lambda i: i[0]))\n",
    "    \n",
    "    #y luego, para cada clave, ordenamos los valores de su diccionario alfabéticamente\n",
    "    for letra, palabras in conteo_ordenado.items():\n",
    "        conteo_ordenado[letra] = dict(sorted(palabras.items(), key=lambda i: i[0]))\n",
    "    \n",
    "    return conteo_ordenado\n",
    "\n",
    "with open('C:\\\\Users\\\\damim\\\\Desktop\\\\tu_me_quieres_blanca.txt', encoding='utf-8') as file:\n",
    "    conteo_palabras = contar(file.read())\n",
    "\n",
    "print(conteo_palabras)"
   ]
  }
 ],
 "metadata": {
  "kernelspec": {
   "display_name": "Python 3",
   "language": "python",
   "name": "python3"
  },
  "language_info": {
   "codemirror_mode": {
    "name": "ipython",
    "version": 3
   },
   "file_extension": ".py",
   "mimetype": "text/x-python",
   "name": "python",
   "nbconvert_exporter": "python",
   "pygments_lexer": "ipython3",
   "version": "3.12.1"
  }
 },
 "nbformat": 4,
 "nbformat_minor": 2
}
